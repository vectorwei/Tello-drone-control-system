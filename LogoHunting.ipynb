{
 "cells": [
  {
   "cell_type": "code",
   "execution_count": null,
   "metadata": {},
   "outputs": [],
   "source": [
    "# pip install djitellopy\n",
    "'''\n",
    "pip install torch torchvision\n",
    "git clone https://github.com/ultralytics/yolov5\n",
    "cd yolov5\n",
    "pip install -r requirements.txt\n",
    "'''\n",
    "'''\n",
    "# 初始化 Tello 无人机\n",
    "drone = Tello()\n",
    "drone.connect()\n",
    "drone.streamon()\n",
    "\n",
    "\n",
    "# load YOLOv5 model\n",
    "model = torch.hub.load('ultralytics/yolov5', 'custom', path='best.pt')\n",
    "model.conf = 0.5\n",
    "'''"
   ]
  },
  {
   "cell_type": "code",
   "execution_count": null,
   "metadata": {},
   "outputs": [],
   "source": [
    "import torch\n",
    "\n",
    "# 加载模型\n",
    "model = torch.hub.load('ultralytics/yolov5', 'custom', path='best.pt')\n",
    "\n",
    "# 查看标签\n",
    "print(\"Label 映射:\")\n",
    "for i, label in model.names.items():\n",
    "    print(f\"{i}: {label}\")"
   ]
  },
  {
   "cell_type": "code",
   "execution_count": 1,
   "metadata": {},
   "outputs": [],
   "source": [
    "import cv2\n",
    "import torch\n",
    "from time import sleep\n",
    "from djitellopy import Tello\n",
    "\n",
    "class LogoHunting:\n",
    "    def __init__(self, model_path):\n",
    "        self.drone = Tello()\n",
    "        sleep(2)\n",
    "        self.drone.connect()\n",
    "        self.drone.streamon()\n",
    "        self.wait_for_camera_ready()\n",
    "\n",
    "        self.model = torch.hub.load('ultralytics/yolov5', 'custom', path=model_path)\n",
    "        self.model.conf = 0.5\n",
    "\n",
    "        self.frame_width = 640\n",
    "        self.frame_height = 480\n",
    "\n",
    "    def take_off(self):\n",
    "        response=self.drone.get_battery()\n",
    "        print(response)\n",
    "        sleep(2)\n",
    "        \n",
    "        try:\n",
    "            print(\"[INFO] Sending takeoff command...\")\n",
    "            result = self.drone.takeoff()\n",
    "            print(\"[INFO] Takeoff result:\", result)\n",
    "            sleep(2)\n",
    "        except Exception as e:\n",
    "            print(\"[ERROR] Takeoff failed:\", str(e))\n",
    "            try:\n",
    "                self.drone.land()\n",
    "            except:\n",
    "                pass\n",
    "    \n",
    "    def land(self):\n",
    "        self.drone.land()\n",
    "\n",
    "    def wait_for_camera_ready(self, max_wait=5):\n",
    "        print(\"[INFO] Waiting for camera to warm up...\")\n",
    "        for _ in range(max_wait * 10):  # 0.1s x 50 = 5s\n",
    "            frame = self.get_camera_frame()\n",
    "            if frame is not None and frame.shape[0] > 0:\n",
    "                print(\"[INFO] Camera ready.\")\n",
    "                return True\n",
    "            sleep(0.1)\n",
    "        raise RuntimeError(\"Camera failed to initialize in time!\")\n",
    "    \n",
    "    def shutdown(self):\n",
    "        self.drone.streamoff()\n",
    "        self.drone.end()\n",
    "\n",
    "    def debug_camera_stream(self):\n",
    "        print(\"[INFO] Starting camera debug stream... Press 'q' to exit.\")\n",
    "        while True:\n",
    "            frame = self.get_camera_frame()\n",
    "            cv2.imshow(\"Tello Camera\", frame)\n",
    "\n",
    "            if cv2.waitKey(1) & 0xFF == ord('q'):\n",
    "                break\n",
    "\n",
    "        cv2.destroyAllWindows()\n",
    "\n",
    "    # get camera\n",
    "    def get_camera_frame(self):\n",
    "        frame = self.drone.get_frame_read().frame\n",
    "        return cv2.resize(frame, (640, 480))\n",
    "\n",
    "    # motion control \n",
    "    def rotate_drone(self,degree=30):\n",
    "        self.drone.rotate_clockwise(int(degree))\n",
    "        sleep(1)\n",
    "\n",
    "    def move_forward(self,distance=20):\n",
    "        self.drone.move_forward(int(distance))\n",
    "        sleep(1)\n",
    "\n",
    "    def turn_left(self,degree = 10):\n",
    "        self.drone.rotate_counter_clockwise(int(degree))\n",
    "        sleep(1)\n",
    "\n",
    "    def turn_right(self,degree = 10):\n",
    "        self.drone.rotate_clockwise(int(degree))\n",
    "        sleep(1)\n",
    "\n",
    "    def stop_drone(self):\n",
    "        self.drone.send_rc_control(0, 0, 0, 0)\n",
    "\n",
    "    # tools\n",
    "    def get_box_center(self,box):\n",
    "        x1, y1, x2, y2 = box\n",
    "        return ((x1 + x2) / 2, (y1 + y2) / 2)\n",
    "\n",
    "    def get_box_area_ratio(self,box):\n",
    "        x1, y1, x2, y2 = box\n",
    "        box_area = (x2 - x1) * (y2 - y1)\n",
    "        return box_area / (self.frame_width * self.frame_height)\n",
    "\n",
    "    # YOLO detect\n",
    "    def yolo_detect(self,frame,max_retries = 1):\n",
    "        retry_count = 0\n",
    "        while retry_count <= max_retries:\n",
    "            try:\n",
    "                if frame is None or frame.size == 0:\n",
    "                    raise ValueError(\"Empty frame\")\n",
    "\n",
    "                results = self.model(frame)\n",
    "                boxes = results.xyxy[0].cpu().numpy()\n",
    "\n",
    "                icon_box = None\n",
    "\n",
    "                for box in boxes:\n",
    "                    x1, y1, x2, y2, conf, cls = box\n",
    "                    label = results.names[int(cls)].lower()\n",
    "                    if 'icon' in label:\n",
    "                        icon_box = [x1, y1, x2, y2]\n",
    "                    #elif 'text' in label:\n",
    "                        #text_box = [x1, y1, x2, y2]\n",
    "\n",
    "                if icon_box is None:\n",
    "                    raise ValueError(\"No objects detected\")\n",
    "\n",
    "                return {\"icon_box\": icon_box}\n",
    "\n",
    "            except Exception as e:\n",
    "                print(f\"[WARN] Detection failed (retry {retry_count}): {e}\")\n",
    "                retry_count += 1\n",
    "                sleep(1)\n",
    "                frame = self.get_camera_frame()\n",
    "\n",
    "        print(\"[ERROR] YOLO detection failed after retries.\")\n",
    "        return {\"icon_box\": None}\n",
    "\n",
    "    # search for target\n",
    "    # will turn 2 circles, trying to find the target\n",
    "    # if find: return icon box; if not: return None\n",
    "    def rotate_until_target_found(self):\n",
    "        i = 0\n",
    "        while i <= 36:\n",
    "            if i >= 12:\n",
    "                frame = self.get_camera_frame()\n",
    "                result = self.yolo_detect(frame,max_retries = 0)\n",
    "                if result[\"icon_box\"]:\n",
    "                    print(\"Find Target\")\n",
    "                    return result[\"icon_box\"]\n",
    "                sleep(0.5)\n",
    "                if i == 12:\n",
    "                    self.drone.move_up(20)\n",
    "                if i == 24:\n",
    "                    self.drone.move_down(40)\n",
    "                #else:\n",
    "                    #if i % 2 == 1:\n",
    "                        #self.drone.move_down(20)\n",
    "                    #else:\n",
    "                        #self.drone.move_up(20)\n",
    "            frame = self.get_camera_frame()\n",
    "            result = self.yolo_detect(frame)\n",
    "            if result[\"icon_box\"]:\n",
    "                print(\"Find Target\")\n",
    "                return result[\"icon_box\"]\n",
    "            self.rotate_drone()\n",
    "            sleep(1)\n",
    "            i += 1\n",
    "        return None\n",
    "\n",
    "    # fly towards icon\n",
    "    # Set a max try round \n",
    "    # if reach the target, return True; if failed return False\n",
    "    def fly_toward_icon(self,max_try_round = 50):\n",
    "        for _ in range(max_try_round):\n",
    "            frame = self.get_camera_frame()\n",
    "            if frame is None:\n",
    "                print(\"[WARNING] Frame is empty, skipping this round.\")\n",
    "                continue\n",
    "\n",
    "            result = self.yolo_detect(frame,max_retries = 3)\n",
    "            icon_box = result[\"icon_box\"]\n",
    "\n",
    "            if icon_box is None:\n",
    "                print(\"[WARNING] Detection failed. Try 2 more frame before rotating.\")\n",
    "                for try_count in range(4):\n",
    "                    sleep(0.5)\n",
    "                    if try_count == 0:\n",
    "                        self.drone.move_up(20)\n",
    "                    if try_count == 1:\n",
    "                        self.drone.move_down(40)\n",
    "                    if try_count == 2:\n",
    "                        self.drone.move_up(20)\n",
    "                        self.turn_right(10)\n",
    "                    else:\n",
    "                        self.turn_left(20)\n",
    "                    frame_retry = self.get_camera_frame()\n",
    "                    result_retry = self.yolo_detect(frame_retry)\n",
    "                    icon_box = result_retry[\"icon_box\"]\n",
    "                    if icon_box is not None:\n",
    "                        break\n",
    "\n",
    "                if icon_box is None:\n",
    "                    self.stop_drone()\n",
    "                    flag = 0\n",
    "                    i = 0\n",
    "                    while not flag and i <3:\n",
    "                        print(\"Lost target, researching...\")\n",
    "                        flag = self.rotate_until_target_found()\n",
    "                        i += 1\n",
    "                    if not flag:\n",
    "                        print(\"Can't find target! Maybe have some problems!\") \n",
    "                        return False\n",
    "                    else: icon_box = flag\n",
    "\n",
    "            area_ratio = self.get_box_area_ratio(icon_box)\n",
    "            print(f\"Current icon box area ratio: {area_ratio:.4f}\")\n",
    "\n",
    "            if area_ratio > 0.25:\n",
    "                self.stop_drone()\n",
    "                print(\"Arrived!\")\n",
    "                return True\n",
    "\n",
    "            x_center, y_center = self.get_box_center(icon_box)\n",
    "            screen_center_x = self.frame_width / 2\n",
    "            screen_center_y = self.frame_height / 2\n",
    "\n",
    "            if abs(x_center - screen_center_x) > 80:  # need to test for the specific numbers\n",
    "                if x_center > screen_center_x:\n",
    "                    print(\"Turn right to face the icon\")\n",
    "                    if area_ratio < 0.1:\n",
    "                        self.turn_right(max(10,(abs(x_center - screen_center_x))*area_ratio*2.5))\n",
    "                    else:\n",
    "                        self.drone.move_right(max(20,int(abs(x_center - screen_center_x)/5)))\n",
    "                else:\n",
    "                    print(\"Turn left to face the icon\")\n",
    "                    if area_ratio < 0.1:\n",
    "                        self.turn_left(max(10,(abs(x_center - screen_center_x))*area_ratio*2.5))\n",
    "                    else:\n",
    "                        self.drone.move_left(max(20,int(abs(x_center - screen_center_x)/5)))\n",
    "            if abs(y_center - screen_center_y) > 60:  # need to test for the specific numbers\n",
    "                if y_center < screen_center_y:\n",
    "                    print(\"Flying too low! Get up!\")\n",
    "                    self.drone.move_up(max(20,int(area_ratio*abs(y_center - screen_center_y)*0.8)))\n",
    "                else:\n",
    "                    print(\"Flying too high! Get down!\")\n",
    "                    self.drone.move_down(max(20,int(area_ratio*abs(y_center - screen_center_y)*0.8)))\n",
    "                   \n",
    "            \n",
    "            print(\"Move Towards the Icon!\")\n",
    "            self.move_forward(max(20,int(50-area_ratio*120)))\n",
    "\n",
    "        return False\n",
    "            \n",
    "    # read through the text and show off\n",
    "    def side_slide_to_text(self):\n",
    "        print(\"Begin reading...\")\n",
    "\n",
    "        \"\"\"\n",
    "        while True:\n",
    "            self.drone.move_right(20)  # flying first!\n",
    "            sleep(1.5)\n",
    "\n",
    "            frame = self.get_camera_frame()\n",
    "            result = self.yolo_detect(frame)\n",
    "            text_box = result[\"text_box\"]\n",
    "\n",
    "            if text_box is None:\n",
    "                self.stop_drone()\n",
    "                print(\"lose target...\")\n",
    "                self.rotate_until_target_found()\n",
    "                continue\n",
    "\n",
    "            x1, y1, x2, y2 = text_box\n",
    "            # if reach the right end\n",
    "            if x2 > 0.9 * 640:\n",
    "                self.stop_drone()\n",
    "                print(\"Finish reading!\")\n",
    "                break        \n",
    "        \"\"\"\n",
    "        for i in range(4):      # Hardcoding\n",
    "            self.drone.move_right(30)  \n",
    "            sleep(1)\n",
    "\n",
    "\n",
    "        print(\"Turn to the audience\")\n",
    "        self.drone.rotate_clockwise(180)\n",
    "        sleep(2)\n",
    "        return True\n",
    "        \n"
   ]
  },
  {
   "cell_type": "code",
   "execution_count": null,
   "metadata": {},
   "outputs": [],
   "source": [
    "import os\n",
    "os.system(\"pkill -f python\")\n",
    "mission = LogoHunting(model_path='best.pt')\n",
    "\n",
    "mission.take_off()\n",
    "\n",
    "flag = mission.rotate_until_target_found()\n",
    "print(flag)\n",
    "\n",
    "if flag:\n",
    "    flag = False\n",
    "    flag = mission.fly_toward_icon()\n",
    "    print(flag)\n",
    "\n",
    "    if flag:\n",
    "        mission.side_slide_to_text()\n",
    "\n",
    "mission.shutdown()\n",
    "        "
   ]
  },
  {
   "cell_type": "code",
   "execution_count": null,
   "metadata": {},
   "outputs": [],
   "source": [
    "mission.shutdown()"
   ]
  },
  {
   "cell_type": "code",
   "execution_count": 2,
   "metadata": {},
   "outputs": [
    {
     "name": "stderr",
     "output_type": "stream",
     "text": [
      "[INFO] tello.py - 129 - Tello instance was initialized. Host: '192.168.10.1'. Port: '8889'.\n",
      "[INFO] tello.py - 438 - Send command: 'command'\n",
      "[INFO] tello.py - 462 - Response command: 'ok'\n",
      "[INFO] tello.py - 438 - Send command: 'streamon'\n",
      "[INFO] tello.py - 462 - Response streamon: 'ok'\n"
     ]
    },
    {
     "name": "stdout",
     "output_type": "stream",
     "text": [
      "[INFO] Waiting for camera to warm up...\n",
      "[INFO] Camera ready.\n"
     ]
    },
    {
     "name": "stderr",
     "output_type": "stream",
     "text": [
      "Using cache found in /Users/wecky/.cache/torch/hub/ultralytics_yolov5_master\n",
      "left block unavailable for requested intra mode\n",
      "error while decoding MB 0 34, bytestream 1446\n",
      "YOLOv5 🚀 2025-4-5 Python-3.11.3 torch-2.6.0 CPU\n",
      "\n",
      "Fusing layers... \n",
      "Model summary: 157 layers, 7015519 parameters, 0 gradients, 15.8 GFLOPs\n",
      "Adding AutoShape... \n"
     ]
    }
   ],
   "source": [
    "import os\n",
    "os.system(\"pkill -f python\")\n",
    "mission = LogoHunting(model_path='best.pt')\n",
    "#mission.debug_camera_stream()"
   ]
  },
  {
   "cell_type": "code",
   "execution_count": 3,
   "metadata": {},
   "outputs": [
    {
     "name": "stdout",
     "output_type": "stream",
     "text": [
      "44\n"
     ]
    },
    {
     "name": "stderr",
     "output_type": "stream",
     "text": [
      "[INFO] tello.py - 438 - Send command: 'takeoff'\n"
     ]
    },
    {
     "name": "stdout",
     "output_type": "stream",
     "text": [
      "[INFO] Sending takeoff command...\n"
     ]
    },
    {
     "name": "stderr",
     "output_type": "stream",
     "text": [
      "[INFO] tello.py - 462 - Response takeoff: 'ok'\n"
     ]
    },
    {
     "name": "stdout",
     "output_type": "stream",
     "text": [
      "[INFO] Takeoff result: None\n"
     ]
    },
    {
     "name": "stderr",
     "output_type": "stream",
     "text": [
      "error while decoding MB 55 40, bytestream -6\n"
     ]
    }
   ],
   "source": [
    "mission.take_off()"
   ]
  },
  {
   "cell_type": "code",
   "execution_count": null,
   "metadata": {},
   "outputs": [],
   "source": [
    "mission.drone.move_left(20)\n"
   ]
  },
  {
   "cell_type": "code",
   "execution_count": null,
   "metadata": {},
   "outputs": [],
   "source": [
    "#mission.turn_left(10)"
   ]
  },
  {
   "cell_type": "code",
   "execution_count": null,
   "metadata": {},
   "outputs": [],
   "source": [
    "\"\"\"\n",
    "mission.drone.move_up(20)\n",
    "sleep(2)\n",
    "mission.drone.move_down(15)\n",
    "\"\"\"\n"
   ]
  },
  {
   "cell_type": "code",
   "execution_count": null,
   "metadata": {},
   "outputs": [],
   "source": [
    "\"\"\"\n",
    "mission.drone.move_right(20)\n",
    "sleep(2)\n",
    "mission.drone.land()\n",
    "\"\"\"\n"
   ]
  },
  {
   "cell_type": "code",
   "execution_count": 4,
   "metadata": {},
   "outputs": [
    {
     "name": "stderr",
     "output_type": "stream",
     "text": [
      "/Users/wecky/.cache/torch/hub/ultralytics_yolov5_master/models/common.py:906: FutureWarning: `torch.cuda.amp.autocast(args...)` is deprecated. Please use `torch.amp.autocast('cuda', args...)` instead.\n",
      "  with amp.autocast(autocast):\n"
     ]
    },
    {
     "name": "stdout",
     "output_type": "stream",
     "text": [
      "[WARN] Detection failed (retry 0): No objects detected\n"
     ]
    },
    {
     "name": "stderr",
     "output_type": "stream",
     "text": [
      "left block unavailable for requested intra4x4 mode -1\n",
      "error while decoding MB 0 20, bytestream 10610\n",
      "/Users/wecky/.cache/torch/hub/ultralytics_yolov5_master/models/common.py:906: FutureWarning: `torch.cuda.amp.autocast(args...)` is deprecated. Please use `torch.amp.autocast('cuda', args...)` instead.\n",
      "  with amp.autocast(autocast):\n",
      "error while decoding MB 26 39, bytestream -6\n"
     ]
    },
    {
     "name": "stdout",
     "output_type": "stream",
     "text": [
      "[WARN] Detection failed (retry 1): No objects detected\n"
     ]
    },
    {
     "name": "stderr",
     "output_type": "stream",
     "text": [
      "[INFO] tello.py - 438 - Send command: 'cw 30'\n"
     ]
    },
    {
     "name": "stdout",
     "output_type": "stream",
     "text": [
      "[ERROR] YOLO detection failed after retries.\n"
     ]
    },
    {
     "name": "stderr",
     "output_type": "stream",
     "text": [
      "[INFO] tello.py - 462 - Response cw 30: 'ok'\n",
      "left block unavailable for requested intra mode\n",
      "error while decoding MB 0 20, bytestream 7886\n",
      "/Users/wecky/.cache/torch/hub/ultralytics_yolov5_master/models/common.py:906: FutureWarning: `torch.cuda.amp.autocast(args...)` is deprecated. Please use `torch.amp.autocast('cuda', args...)` instead.\n",
      "  with amp.autocast(autocast):\n"
     ]
    },
    {
     "name": "stdout",
     "output_type": "stream",
     "text": [
      "[WARN] Detection failed (retry 0): No objects detected\n"
     ]
    },
    {
     "name": "stderr",
     "output_type": "stream",
     "text": [
      "/Users/wecky/.cache/torch/hub/ultralytics_yolov5_master/models/common.py:906: FutureWarning: `torch.cuda.amp.autocast(args...)` is deprecated. Please use `torch.amp.autocast('cuda', args...)` instead.\n",
      "  with amp.autocast(autocast):\n"
     ]
    },
    {
     "name": "stdout",
     "output_type": "stream",
     "text": [
      "[WARN] Detection failed (retry 1): No objects detected\n"
     ]
    },
    {
     "name": "stderr",
     "output_type": "stream",
     "text": [
      "[INFO] tello.py - 438 - Send command: 'cw 30'\n"
     ]
    },
    {
     "name": "stdout",
     "output_type": "stream",
     "text": [
      "[ERROR] YOLO detection failed after retries.\n"
     ]
    },
    {
     "name": "stderr",
     "output_type": "stream",
     "text": [
      "[INFO] tello.py - 462 - Response cw 30: 'ok'\n",
      "/Users/wecky/.cache/torch/hub/ultralytics_yolov5_master/models/common.py:906: FutureWarning: `torch.cuda.amp.autocast(args...)` is deprecated. Please use `torch.amp.autocast('cuda', args...)` instead.\n",
      "  with amp.autocast(autocast):\n"
     ]
    },
    {
     "name": "stdout",
     "output_type": "stream",
     "text": [
      "[WARN] Detection failed (retry 0): No objects detected\n"
     ]
    },
    {
     "name": "stderr",
     "output_type": "stream",
     "text": [
      "/Users/wecky/.cache/torch/hub/ultralytics_yolov5_master/models/common.py:906: FutureWarning: `torch.cuda.amp.autocast(args...)` is deprecated. Please use `torch.amp.autocast('cuda', args...)` instead.\n",
      "  with amp.autocast(autocast):\n"
     ]
    },
    {
     "name": "stdout",
     "output_type": "stream",
     "text": [
      "[WARN] Detection failed (retry 1): No objects detected\n"
     ]
    },
    {
     "name": "stderr",
     "output_type": "stream",
     "text": [
      "[INFO] tello.py - 438 - Send command: 'cw 30'\n"
     ]
    },
    {
     "name": "stdout",
     "output_type": "stream",
     "text": [
      "[ERROR] YOLO detection failed after retries.\n"
     ]
    },
    {
     "name": "stderr",
     "output_type": "stream",
     "text": [
      "error while decoding MB 47 39, bytestream -6\n",
      "[INFO] tello.py - 462 - Response cw 30: 'ok'\n",
      "/Users/wecky/.cache/torch/hub/ultralytics_yolov5_master/models/common.py:906: FutureWarning: `torch.cuda.amp.autocast(args...)` is deprecated. Please use `torch.amp.autocast('cuda', args...)` instead.\n",
      "  with amp.autocast(autocast):\n"
     ]
    },
    {
     "name": "stdout",
     "output_type": "stream",
     "text": [
      "[WARN] Detection failed (retry 0): No objects detected\n"
     ]
    },
    {
     "name": "stderr",
     "output_type": "stream",
     "text": [
      "/Users/wecky/.cache/torch/hub/ultralytics_yolov5_master/models/common.py:906: FutureWarning: `torch.cuda.amp.autocast(args...)` is deprecated. Please use `torch.amp.autocast('cuda', args...)` instead.\n",
      "  with amp.autocast(autocast):\n"
     ]
    },
    {
     "name": "stdout",
     "output_type": "stream",
     "text": [
      "[WARN] Detection failed (retry 1): No objects detected\n"
     ]
    },
    {
     "name": "stderr",
     "output_type": "stream",
     "text": [
      "[INFO] tello.py - 438 - Send command: 'cw 30'\n"
     ]
    },
    {
     "name": "stdout",
     "output_type": "stream",
     "text": [
      "[ERROR] YOLO detection failed after retries.\n"
     ]
    },
    {
     "name": "stderr",
     "output_type": "stream",
     "text": [
      "[INFO] tello.py - 462 - Response cw 30: 'ok'\n",
      "/Users/wecky/.cache/torch/hub/ultralytics_yolov5_master/models/common.py:906: FutureWarning: `torch.cuda.amp.autocast(args...)` is deprecated. Please use `torch.amp.autocast('cuda', args...)` instead.\n",
      "  with amp.autocast(autocast):\n"
     ]
    },
    {
     "name": "stdout",
     "output_type": "stream",
     "text": [
      "[WARN] Detection failed (retry 0): No objects detected\n"
     ]
    },
    {
     "name": "stderr",
     "output_type": "stream",
     "text": [
      "/Users/wecky/.cache/torch/hub/ultralytics_yolov5_master/models/common.py:906: FutureWarning: `torch.cuda.amp.autocast(args...)` is deprecated. Please use `torch.amp.autocast('cuda', args...)` instead.\n",
      "  with amp.autocast(autocast):\n"
     ]
    },
    {
     "name": "stdout",
     "output_type": "stream",
     "text": [
      "[WARN] Detection failed (retry 1): No objects detected\n"
     ]
    },
    {
     "name": "stderr",
     "output_type": "stream",
     "text": [
      "[INFO] tello.py - 438 - Send command: 'cw 30'\n"
     ]
    },
    {
     "name": "stdout",
     "output_type": "stream",
     "text": [
      "[ERROR] YOLO detection failed after retries.\n"
     ]
    },
    {
     "name": "stderr",
     "output_type": "stream",
     "text": [
      "[INFO] tello.py - 462 - Response cw 30: 'ok'\n",
      "/Users/wecky/.cache/torch/hub/ultralytics_yolov5_master/models/common.py:906: FutureWarning: `torch.cuda.amp.autocast(args...)` is deprecated. Please use `torch.amp.autocast('cuda', args...)` instead.\n",
      "  with amp.autocast(autocast):\n"
     ]
    },
    {
     "name": "stdout",
     "output_type": "stream",
     "text": [
      "[WARN] Detection failed (retry 0): No objects detected\n"
     ]
    },
    {
     "name": "stderr",
     "output_type": "stream",
     "text": [
      "/Users/wecky/.cache/torch/hub/ultralytics_yolov5_master/models/common.py:906: FutureWarning: `torch.cuda.amp.autocast(args...)` is deprecated. Please use `torch.amp.autocast('cuda', args...)` instead.\n",
      "  with amp.autocast(autocast):\n"
     ]
    },
    {
     "name": "stdout",
     "output_type": "stream",
     "text": [
      "[WARN] Detection failed (retry 1): No objects detected\n"
     ]
    },
    {
     "name": "stderr",
     "output_type": "stream",
     "text": [
      "[INFO] tello.py - 438 - Send command: 'cw 30'\n"
     ]
    },
    {
     "name": "stdout",
     "output_type": "stream",
     "text": [
      "[ERROR] YOLO detection failed after retries.\n"
     ]
    },
    {
     "name": "stderr",
     "output_type": "stream",
     "text": [
      "[INFO] tello.py - 462 - Response cw 30: 'ok'\n",
      "left block unavailable for requested intra mode\n",
      "error while decoding MB 0 36, bytestream 1128\n",
      "/Users/wecky/.cache/torch/hub/ultralytics_yolov5_master/models/common.py:906: FutureWarning: `torch.cuda.amp.autocast(args...)` is deprecated. Please use `torch.amp.autocast('cuda', args...)` instead.\n",
      "  with amp.autocast(autocast):\n"
     ]
    },
    {
     "name": "stdout",
     "output_type": "stream",
     "text": [
      "[WARN] Detection failed (retry 0): No objects detected\n"
     ]
    },
    {
     "name": "stderr",
     "output_type": "stream",
     "text": [
      "/Users/wecky/.cache/torch/hub/ultralytics_yolov5_master/models/common.py:906: FutureWarning: `torch.cuda.amp.autocast(args...)` is deprecated. Please use `torch.amp.autocast('cuda', args...)` instead.\n",
      "  with amp.autocast(autocast):\n"
     ]
    },
    {
     "name": "stdout",
     "output_type": "stream",
     "text": [
      "[WARN] Detection failed (retry 1): No objects detected\n"
     ]
    },
    {
     "name": "stderr",
     "output_type": "stream",
     "text": [
      "[INFO] tello.py - 438 - Send command: 'cw 30'\n"
     ]
    },
    {
     "name": "stdout",
     "output_type": "stream",
     "text": [
      "[ERROR] YOLO detection failed after retries.\n"
     ]
    },
    {
     "name": "stderr",
     "output_type": "stream",
     "text": [
      "[INFO] tello.py - 462 - Response cw 30: 'ok'\n",
      "/Users/wecky/.cache/torch/hub/ultralytics_yolov5_master/models/common.py:906: FutureWarning: `torch.cuda.amp.autocast(args...)` is deprecated. Please use `torch.amp.autocast('cuda', args...)` instead.\n",
      "  with amp.autocast(autocast):\n"
     ]
    },
    {
     "name": "stdout",
     "output_type": "stream",
     "text": [
      "[WARN] Detection failed (retry 0): No objects detected\n"
     ]
    },
    {
     "name": "stderr",
     "output_type": "stream",
     "text": [
      "/Users/wecky/.cache/torch/hub/ultralytics_yolov5_master/models/common.py:906: FutureWarning: `torch.cuda.amp.autocast(args...)` is deprecated. Please use `torch.amp.autocast('cuda', args...)` instead.\n",
      "  with amp.autocast(autocast):\n"
     ]
    },
    {
     "name": "stdout",
     "output_type": "stream",
     "text": [
      "[WARN] Detection failed (retry 1): No objects detected\n"
     ]
    },
    {
     "name": "stderr",
     "output_type": "stream",
     "text": [
      "[INFO] tello.py - 438 - Send command: 'cw 30'\n"
     ]
    },
    {
     "name": "stdout",
     "output_type": "stream",
     "text": [
      "[ERROR] YOLO detection failed after retries.\n"
     ]
    },
    {
     "name": "stderr",
     "output_type": "stream",
     "text": [
      "[INFO] tello.py - 462 - Response cw 30: 'ok'\n",
      "/Users/wecky/.cache/torch/hub/ultralytics_yolov5_master/models/common.py:906: FutureWarning: `torch.cuda.amp.autocast(args...)` is deprecated. Please use `torch.amp.autocast('cuda', args...)` instead.\n",
      "  with amp.autocast(autocast):\n"
     ]
    },
    {
     "name": "stdout",
     "output_type": "stream",
     "text": [
      "[WARN] Detection failed (retry 0): No objects detected\n"
     ]
    },
    {
     "name": "stderr",
     "output_type": "stream",
     "text": [
      "/Users/wecky/.cache/torch/hub/ultralytics_yolov5_master/models/common.py:906: FutureWarning: `torch.cuda.amp.autocast(args...)` is deprecated. Please use `torch.amp.autocast('cuda', args...)` instead.\n",
      "  with amp.autocast(autocast):\n"
     ]
    },
    {
     "name": "stdout",
     "output_type": "stream",
     "text": [
      "[WARN] Detection failed (retry 1): No objects detected\n"
     ]
    },
    {
     "name": "stderr",
     "output_type": "stream",
     "text": [
      "error while decoding MB 9 38, bytestream -6\n",
      "[INFO] tello.py - 438 - Send command: 'cw 30'\n"
     ]
    },
    {
     "name": "stdout",
     "output_type": "stream",
     "text": [
      "[ERROR] YOLO detection failed after retries.\n"
     ]
    },
    {
     "name": "stderr",
     "output_type": "stream",
     "text": [
      "[INFO] tello.py - 462 - Response cw 30: 'ok'\n",
      "/Users/wecky/.cache/torch/hub/ultralytics_yolov5_master/models/common.py:906: FutureWarning: `torch.cuda.amp.autocast(args...)` is deprecated. Please use `torch.amp.autocast('cuda', args...)` instead.\n",
      "  with amp.autocast(autocast):\n"
     ]
    },
    {
     "name": "stdout",
     "output_type": "stream",
     "text": [
      "[WARN] Detection failed (retry 0): No objects detected\n"
     ]
    },
    {
     "name": "stderr",
     "output_type": "stream",
     "text": [
      "/Users/wecky/.cache/torch/hub/ultralytics_yolov5_master/models/common.py:906: FutureWarning: `torch.cuda.amp.autocast(args...)` is deprecated. Please use `torch.amp.autocast('cuda', args...)` instead.\n",
      "  with amp.autocast(autocast):\n"
     ]
    },
    {
     "name": "stdout",
     "output_type": "stream",
     "text": [
      "[WARN] Detection failed (retry 1): No objects detected\n"
     ]
    },
    {
     "name": "stderr",
     "output_type": "stream",
     "text": [
      "[INFO] tello.py - 438 - Send command: 'cw 30'\n"
     ]
    },
    {
     "name": "stdout",
     "output_type": "stream",
     "text": [
      "[ERROR] YOLO detection failed after retries.\n"
     ]
    },
    {
     "name": "stderr",
     "output_type": "stream",
     "text": [
      "[INFO] tello.py - 462 - Response cw 30: 'ok'\n",
      "/Users/wecky/.cache/torch/hub/ultralytics_yolov5_master/models/common.py:906: FutureWarning: `torch.cuda.amp.autocast(args...)` is deprecated. Please use `torch.amp.autocast('cuda', args...)` instead.\n",
      "  with amp.autocast(autocast):\n"
     ]
    },
    {
     "name": "stdout",
     "output_type": "stream",
     "text": [
      "[WARN] Detection failed (retry 0): No objects detected\n"
     ]
    },
    {
     "name": "stderr",
     "output_type": "stream",
     "text": [
      "/Users/wecky/.cache/torch/hub/ultralytics_yolov5_master/models/common.py:906: FutureWarning: `torch.cuda.amp.autocast(args...)` is deprecated. Please use `torch.amp.autocast('cuda', args...)` instead.\n",
      "  with amp.autocast(autocast):\n"
     ]
    },
    {
     "name": "stdout",
     "output_type": "stream",
     "text": [
      "[WARN] Detection failed (retry 1): No objects detected\n"
     ]
    },
    {
     "name": "stderr",
     "output_type": "stream",
     "text": [
      "[INFO] tello.py - 438 - Send command: 'cw 30'\n"
     ]
    },
    {
     "name": "stdout",
     "output_type": "stream",
     "text": [
      "[ERROR] YOLO detection failed after retries.\n"
     ]
    },
    {
     "name": "stderr",
     "output_type": "stream",
     "text": [
      "[INFO] tello.py - 462 - Response cw 30: 'ok'\n",
      "/Users/wecky/.cache/torch/hub/ultralytics_yolov5_master/models/common.py:906: FutureWarning: `torch.cuda.amp.autocast(args...)` is deprecated. Please use `torch.amp.autocast('cuda', args...)` instead.\n",
      "  with amp.autocast(autocast):\n"
     ]
    },
    {
     "name": "stdout",
     "output_type": "stream",
     "text": [
      "[WARN] Detection failed (retry 0): No objects detected\n"
     ]
    },
    {
     "name": "stderr",
     "output_type": "stream",
     "text": [
      "/Users/wecky/.cache/torch/hub/ultralytics_yolov5_master/models/common.py:906: FutureWarning: `torch.cuda.amp.autocast(args...)` is deprecated. Please use `torch.amp.autocast('cuda', args...)` instead.\n",
      "  with amp.autocast(autocast):\n"
     ]
    },
    {
     "name": "stdout",
     "output_type": "stream",
     "text": [
      "[WARN] Detection failed (retry 1): No objects detected\n"
     ]
    },
    {
     "name": "stderr",
     "output_type": "stream",
     "text": [
      "[INFO] tello.py - 438 - Send command: 'cw 30'\n"
     ]
    },
    {
     "name": "stdout",
     "output_type": "stream",
     "text": [
      "[ERROR] YOLO detection failed after retries.\n"
     ]
    },
    {
     "name": "stderr",
     "output_type": "stream",
     "text": [
      "[INFO] tello.py - 462 - Response cw 30: 'ok'\n",
      "/Users/wecky/.cache/torch/hub/ultralytics_yolov5_master/models/common.py:906: FutureWarning: `torch.cuda.amp.autocast(args...)` is deprecated. Please use `torch.amp.autocast('cuda', args...)` instead.\n",
      "  with amp.autocast(autocast):\n"
     ]
    },
    {
     "name": "stdout",
     "output_type": "stream",
     "text": [
      "[WARN] Detection failed (retry 0): No objects detected\n",
      "[ERROR] YOLO detection failed after retries.\n"
     ]
    },
    {
     "name": "stderr",
     "output_type": "stream",
     "text": [
      "[INFO] tello.py - 438 - Send command: 'up 20'\n",
      "[INFO] tello.py - 462 - Response up 20: 'ok'\n",
      "/Users/wecky/.cache/torch/hub/ultralytics_yolov5_master/models/common.py:906: FutureWarning: `torch.cuda.amp.autocast(args...)` is deprecated. Please use `torch.amp.autocast('cuda', args...)` instead.\n",
      "  with amp.autocast(autocast):\n"
     ]
    },
    {
     "name": "stdout",
     "output_type": "stream",
     "text": [
      "[WARN] Detection failed (retry 0): No objects detected\n"
     ]
    },
    {
     "name": "stderr",
     "output_type": "stream",
     "text": [
      "/Users/wecky/.cache/torch/hub/ultralytics_yolov5_master/models/common.py:906: FutureWarning: `torch.cuda.amp.autocast(args...)` is deprecated. Please use `torch.amp.autocast('cuda', args...)` instead.\n",
      "  with amp.autocast(autocast):\n"
     ]
    },
    {
     "name": "stdout",
     "output_type": "stream",
     "text": [
      "[WARN] Detection failed (retry 1): No objects detected\n"
     ]
    },
    {
     "name": "stderr",
     "output_type": "stream",
     "text": [
      "[INFO] tello.py - 438 - Send command: 'cw 30'\n"
     ]
    },
    {
     "name": "stdout",
     "output_type": "stream",
     "text": [
      "[ERROR] YOLO detection failed after retries.\n"
     ]
    },
    {
     "name": "stderr",
     "output_type": "stream",
     "text": [
      "[INFO] tello.py - 462 - Response cw 30: 'ok'\n",
      "/Users/wecky/.cache/torch/hub/ultralytics_yolov5_master/models/common.py:906: FutureWarning: `torch.cuda.amp.autocast(args...)` is deprecated. Please use `torch.amp.autocast('cuda', args...)` instead.\n",
      "  with amp.autocast(autocast):\n"
     ]
    },
    {
     "name": "stdout",
     "output_type": "stream",
     "text": [
      "[WARN] Detection failed (retry 0): No objects detected\n"
     ]
    },
    {
     "name": "stderr",
     "output_type": "stream",
     "text": [
      "error while decoding MB 45 38, bytestream -5\n"
     ]
    },
    {
     "name": "stdout",
     "output_type": "stream",
     "text": [
      "[ERROR] YOLO detection failed after retries.\n"
     ]
    },
    {
     "name": "stderr",
     "output_type": "stream",
     "text": [
      "/Users/wecky/.cache/torch/hub/ultralytics_yolov5_master/models/common.py:906: FutureWarning: `torch.cuda.amp.autocast(args...)` is deprecated. Please use `torch.amp.autocast('cuda', args...)` instead.\n",
      "  with amp.autocast(autocast):\n"
     ]
    },
    {
     "name": "stdout",
     "output_type": "stream",
     "text": [
      "[WARN] Detection failed (retry 0): No objects detected\n"
     ]
    },
    {
     "name": "stderr",
     "output_type": "stream",
     "text": [
      "/Users/wecky/.cache/torch/hub/ultralytics_yolov5_master/models/common.py:906: FutureWarning: `torch.cuda.amp.autocast(args...)` is deprecated. Please use `torch.amp.autocast('cuda', args...)` instead.\n",
      "  with amp.autocast(autocast):\n"
     ]
    },
    {
     "name": "stdout",
     "output_type": "stream",
     "text": [
      "[WARN] Detection failed (retry 1): No objects detected\n"
     ]
    },
    {
     "name": "stderr",
     "output_type": "stream",
     "text": [
      "[INFO] tello.py - 438 - Send command: 'cw 30'\n"
     ]
    },
    {
     "name": "stdout",
     "output_type": "stream",
     "text": [
      "[ERROR] YOLO detection failed after retries.\n"
     ]
    },
    {
     "name": "stderr",
     "output_type": "stream",
     "text": [
      "[INFO] tello.py - 462 - Response cw 30: 'ok'\n",
      "error while decoding MB 5 36, bytestream 154\n",
      "/Users/wecky/.cache/torch/hub/ultralytics_yolov5_master/models/common.py:906: FutureWarning: `torch.cuda.amp.autocast(args...)` is deprecated. Please use `torch.amp.autocast('cuda', args...)` instead.\n",
      "  with amp.autocast(autocast):\n"
     ]
    },
    {
     "name": "stdout",
     "output_type": "stream",
     "text": [
      "[WARN] Detection failed (retry 0): No objects detected\n"
     ]
    },
    {
     "name": "stderr",
     "output_type": "stream",
     "text": [
      "left block unavailable for requested intra4x4 mode -1\n",
      "error while decoding MB 0 35, bytestream 1474\n",
      "error while decoding MB 26 28, bytestream -7\n"
     ]
    },
    {
     "name": "stdout",
     "output_type": "stream",
     "text": [
      "[ERROR] YOLO detection failed after retries.\n"
     ]
    },
    {
     "name": "stderr",
     "output_type": "stream",
     "text": [
      "/Users/wecky/.cache/torch/hub/ultralytics_yolov5_master/models/common.py:906: FutureWarning: `torch.cuda.amp.autocast(args...)` is deprecated. Please use `torch.amp.autocast('cuda', args...)` instead.\n",
      "  with amp.autocast(autocast):\n"
     ]
    },
    {
     "name": "stdout",
     "output_type": "stream",
     "text": [
      "[WARN] Detection failed (retry 0): No objects detected\n"
     ]
    },
    {
     "name": "stderr",
     "output_type": "stream",
     "text": [
      "/Users/wecky/.cache/torch/hub/ultralytics_yolov5_master/models/common.py:906: FutureWarning: `torch.cuda.amp.autocast(args...)` is deprecated. Please use `torch.amp.autocast('cuda', args...)` instead.\n",
      "  with amp.autocast(autocast):\n"
     ]
    },
    {
     "name": "stdout",
     "output_type": "stream",
     "text": [
      "[WARN] Detection failed (retry 1): No objects detected\n"
     ]
    },
    {
     "name": "stderr",
     "output_type": "stream",
     "text": [
      "[INFO] tello.py - 438 - Send command: 'cw 30'\n"
     ]
    },
    {
     "name": "stdout",
     "output_type": "stream",
     "text": [
      "[ERROR] YOLO detection failed after retries.\n"
     ]
    },
    {
     "name": "stderr",
     "output_type": "stream",
     "text": [
      "[INFO] tello.py - 462 - Response cw 30: 'ok'\n",
      "/Users/wecky/.cache/torch/hub/ultralytics_yolov5_master/models/common.py:906: FutureWarning: `torch.cuda.amp.autocast(args...)` is deprecated. Please use `torch.amp.autocast('cuda', args...)` instead.\n",
      "  with amp.autocast(autocast):\n"
     ]
    },
    {
     "name": "stdout",
     "output_type": "stream",
     "text": [
      "[WARN] Detection failed (retry 0): No objects detected\n",
      "[ERROR] YOLO detection failed after retries.\n"
     ]
    },
    {
     "name": "stderr",
     "output_type": "stream",
     "text": [
      "/Users/wecky/.cache/torch/hub/ultralytics_yolov5_master/models/common.py:906: FutureWarning: `torch.cuda.amp.autocast(args...)` is deprecated. Please use `torch.amp.autocast('cuda', args...)` instead.\n",
      "  with amp.autocast(autocast):\n"
     ]
    },
    {
     "name": "stdout",
     "output_type": "stream",
     "text": [
      "[WARN] Detection failed (retry 0): No objects detected\n"
     ]
    },
    {
     "name": "stderr",
     "output_type": "stream",
     "text": [
      "/Users/wecky/.cache/torch/hub/ultralytics_yolov5_master/models/common.py:906: FutureWarning: `torch.cuda.amp.autocast(args...)` is deprecated. Please use `torch.amp.autocast('cuda', args...)` instead.\n",
      "  with amp.autocast(autocast):\n",
      "error while decoding MB 3 37, bytestream -10\n"
     ]
    },
    {
     "name": "stdout",
     "output_type": "stream",
     "text": [
      "[WARN] Detection failed (retry 1): No objects detected\n"
     ]
    },
    {
     "name": "stderr",
     "output_type": "stream",
     "text": [
      "[INFO] tello.py - 438 - Send command: 'cw 30'\n"
     ]
    },
    {
     "name": "stdout",
     "output_type": "stream",
     "text": [
      "[ERROR] YOLO detection failed after retries.\n"
     ]
    },
    {
     "name": "stderr",
     "output_type": "stream",
     "text": [
      "[INFO] tello.py - 462 - Response cw 30: 'ok'\n",
      "/Users/wecky/.cache/torch/hub/ultralytics_yolov5_master/models/common.py:906: FutureWarning: `torch.cuda.amp.autocast(args...)` is deprecated. Please use `torch.amp.autocast('cuda', args...)` instead.\n",
      "  with amp.autocast(autocast):\n"
     ]
    },
    {
     "name": "stdout",
     "output_type": "stream",
     "text": [
      "[WARN] Detection failed (retry 0): No objects detected\n",
      "[ERROR] YOLO detection failed after retries.\n"
     ]
    },
    {
     "name": "stderr",
     "output_type": "stream",
     "text": [
      "/Users/wecky/.cache/torch/hub/ultralytics_yolov5_master/models/common.py:906: FutureWarning: `torch.cuda.amp.autocast(args...)` is deprecated. Please use `torch.amp.autocast('cuda', args...)` instead.\n",
      "  with amp.autocast(autocast):\n"
     ]
    },
    {
     "name": "stdout",
     "output_type": "stream",
     "text": [
      "[WARN] Detection failed (retry 0): No objects detected\n"
     ]
    },
    {
     "name": "stderr",
     "output_type": "stream",
     "text": [
      "/Users/wecky/.cache/torch/hub/ultralytics_yolov5_master/models/common.py:906: FutureWarning: `torch.cuda.amp.autocast(args...)` is deprecated. Please use `torch.amp.autocast('cuda', args...)` instead.\n",
      "  with amp.autocast(autocast):\n"
     ]
    },
    {
     "name": "stdout",
     "output_type": "stream",
     "text": [
      "[WARN] Detection failed (retry 1): No objects detected\n"
     ]
    },
    {
     "name": "stderr",
     "output_type": "stream",
     "text": [
      "[INFO] tello.py - 438 - Send command: 'cw 30'\n"
     ]
    },
    {
     "name": "stdout",
     "output_type": "stream",
     "text": [
      "[ERROR] YOLO detection failed after retries.\n"
     ]
    },
    {
     "name": "stderr",
     "output_type": "stream",
     "text": [
      "error while decoding MB 7 42, bytestream -6\n",
      "[INFO] tello.py - 462 - Response cw 30: 'ok'\n",
      "left block unavailable for requested intra4x4 mode -1\n",
      "error while decoding MB 0 15, bytestream 2902\n",
      "/Users/wecky/.cache/torch/hub/ultralytics_yolov5_master/models/common.py:906: FutureWarning: `torch.cuda.amp.autocast(args...)` is deprecated. Please use `torch.amp.autocast('cuda', args...)` instead.\n",
      "  with amp.autocast(autocast):\n"
     ]
    },
    {
     "name": "stdout",
     "output_type": "stream",
     "text": [
      "[WARN] Detection failed (retry 0): No objects detected\n",
      "[ERROR] YOLO detection failed after retries.\n"
     ]
    },
    {
     "name": "stderr",
     "output_type": "stream",
     "text": [
      "/Users/wecky/.cache/torch/hub/ultralytics_yolov5_master/models/common.py:906: FutureWarning: `torch.cuda.amp.autocast(args...)` is deprecated. Please use `torch.amp.autocast('cuda', args...)` instead.\n",
      "  with amp.autocast(autocast):\n"
     ]
    },
    {
     "name": "stdout",
     "output_type": "stream",
     "text": [
      "[WARN] Detection failed (retry 0): No objects detected\n"
     ]
    },
    {
     "name": "stderr",
     "output_type": "stream",
     "text": [
      "/Users/wecky/.cache/torch/hub/ultralytics_yolov5_master/models/common.py:906: FutureWarning: `torch.cuda.amp.autocast(args...)` is deprecated. Please use `torch.amp.autocast('cuda', args...)` instead.\n",
      "  with amp.autocast(autocast):\n"
     ]
    },
    {
     "name": "stdout",
     "output_type": "stream",
     "text": [
      "[WARN] Detection failed (retry 1): No objects detected\n"
     ]
    },
    {
     "name": "stderr",
     "output_type": "stream",
     "text": [
      "[INFO] tello.py - 438 - Send command: 'cw 30'\n"
     ]
    },
    {
     "name": "stdout",
     "output_type": "stream",
     "text": [
      "[ERROR] YOLO detection failed after retries.\n"
     ]
    },
    {
     "name": "stderr",
     "output_type": "stream",
     "text": [
      "[INFO] tello.py - 462 - Response cw 30: 'ok'\n",
      "/Users/wecky/.cache/torch/hub/ultralytics_yolov5_master/models/common.py:906: FutureWarning: `torch.cuda.amp.autocast(args...)` is deprecated. Please use `torch.amp.autocast('cuda', args...)` instead.\n",
      "  with amp.autocast(autocast):\n"
     ]
    },
    {
     "name": "stdout",
     "output_type": "stream",
     "text": [
      "[WARN] Detection failed (retry 0): No objects detected\n",
      "[ERROR] YOLO detection failed after retries.\n",
      "Find Target\n",
      "[1.3383827, 99.34325, 106.32712, 182.28468]\n"
     ]
    },
    {
     "name": "stderr",
     "output_type": "stream",
     "text": [
      "/Users/wecky/.cache/torch/hub/ultralytics_yolov5_master/models/common.py:906: FutureWarning: `torch.cuda.amp.autocast(args...)` is deprecated. Please use `torch.amp.autocast('cuda', args...)` instead.\n",
      "  with amp.autocast(autocast):\n"
     ]
    },
    {
     "name": "stderr",
     "output_type": "stream",
     "text": [
      "error while decoding MB 47 34, bytestream -6\n",
      "left block unavailable for requested intra mode\n",
      "error while decoding MB 0 35, bytestream 1479\n"
     ]
    }
   ],
   "source": [
    "flag = mission.rotate_until_target_found()\n",
    "print(flag)"
   ]
  },
  {
   "cell_type": "code",
   "execution_count": 5,
   "metadata": {},
   "outputs": [
    {
     "name": "stderr",
     "output_type": "stream",
     "text": [
      "/Users/wecky/.cache/torch/hub/ultralytics_yolov5_master/models/common.py:906: FutureWarning: `torch.cuda.amp.autocast(args...)` is deprecated. Please use `torch.amp.autocast('cuda', args...)` instead.\n",
      "  with amp.autocast(autocast):\n",
      "error while decoding MB 18 41, bytestream -6\n"
     ]
    },
    {
     "name": "stdout",
     "output_type": "stream",
     "text": [
      "[WARN] Detection failed (retry 0): No objects detected\n"
     ]
    },
    {
     "name": "stderr",
     "output_type": "stream",
     "text": [
      "/Users/wecky/.cache/torch/hub/ultralytics_yolov5_master/models/common.py:906: FutureWarning: `torch.cuda.amp.autocast(args...)` is deprecated. Please use `torch.amp.autocast('cuda', args...)` instead.\n",
      "  with amp.autocast(autocast):\n",
      "[INFO] tello.py - 438 - Send command: 'ccw 18'\n"
     ]
    },
    {
     "name": "stdout",
     "output_type": "stream",
     "text": [
      "Current icon box area ratio: 0.0277\n",
      "Turn left to face the icon\n"
     ]
    },
    {
     "name": "stderr",
     "output_type": "stream",
     "text": [
      "left block unavailable for requested intra mode\n",
      "error while decoding MB 0 28, bytestream 1785\n",
      "[INFO] tello.py - 462 - Response ccw 18: 'ok'\n",
      "[INFO] tello.py - 438 - Send command: 'up 20'\n"
     ]
    },
    {
     "name": "stdout",
     "output_type": "stream",
     "text": [
      "Flying too low! Get up!\n"
     ]
    },
    {
     "name": "stderr",
     "output_type": "stream",
     "text": [
      "[INFO] tello.py - 462 - Response up 20: 'ok'\n",
      "[INFO] tello.py - 438 - Send command: 'forward 47'\n"
     ]
    },
    {
     "name": "stdout",
     "output_type": "stream",
     "text": [
      "Move Towards the Icon!\n"
     ]
    },
    {
     "name": "stderr",
     "output_type": "stream",
     "text": [
      "[INFO] tello.py - 462 - Response forward 47: 'ok'\n",
      "/Users/wecky/.cache/torch/hub/ultralytics_yolov5_master/models/common.py:906: FutureWarning: `torch.cuda.amp.autocast(args...)` is deprecated. Please use `torch.amp.autocast('cuda', args...)` instead.\n",
      "  with amp.autocast(autocast):\n"
     ]
    },
    {
     "name": "stdout",
     "output_type": "stream",
     "text": [
      "[WARN] Detection failed (retry 0): No objects detected\n"
     ]
    },
    {
     "name": "stderr",
     "output_type": "stream",
     "text": [
      "/Users/wecky/.cache/torch/hub/ultralytics_yolov5_master/models/common.py:906: FutureWarning: `torch.cuda.amp.autocast(args...)` is deprecated. Please use `torch.amp.autocast('cuda', args...)` instead.\n",
      "  with amp.autocast(autocast):\n"
     ]
    },
    {
     "name": "stdout",
     "output_type": "stream",
     "text": [
      "[WARN] Detection failed (retry 1): No objects detected\n"
     ]
    },
    {
     "name": "stderr",
     "output_type": "stream",
     "text": [
      "/Users/wecky/.cache/torch/hub/ultralytics_yolov5_master/models/common.py:906: FutureWarning: `torch.cuda.amp.autocast(args...)` is deprecated. Please use `torch.amp.autocast('cuda', args...)` instead.\n",
      "  with amp.autocast(autocast):\n",
      "[INFO] tello.py - 438 - Send command: 'ccw 10'\n"
     ]
    },
    {
     "name": "stdout",
     "output_type": "stream",
     "text": [
      "Current icon box area ratio: 0.0257\n",
      "Turn left to face the icon\n"
     ]
    },
    {
     "name": "stderr",
     "output_type": "stream",
     "text": [
      "error while decoding MB 8 37, bytestream -6\n",
      "[INFO] tello.py - 462 - Response ccw 10: 'ok'\n",
      "[INFO] tello.py - 438 - Send command: 'up 20'\n"
     ]
    },
    {
     "name": "stdout",
     "output_type": "stream",
     "text": [
      "Flying too low! Get up!\n"
     ]
    },
    {
     "name": "stderr",
     "output_type": "stream",
     "text": [
      "error while decoding MB 40 37, bytestream -6\n",
      "[WARNING] tello.py - 448 - Aborting command 'up 20'. Did not receive a response after 7 seconds\n",
      "[INFO] tello.py - 438 - Send command: 'up 20'\n",
      "[INFO] tello.py - 462 - Response up 20: 'ok'\n",
      "[INFO] tello.py - 438 - Send command: 'forward 47'\n"
     ]
    },
    {
     "name": "stdout",
     "output_type": "stream",
     "text": [
      "Move Towards the Icon!\n"
     ]
    },
    {
     "name": "stderr",
     "output_type": "stream",
     "text": [
      "[INFO] tello.py - 462 - Response forward 47: 'ok'\n",
      "/Users/wecky/.cache/torch/hub/ultralytics_yolov5_master/models/common.py:906: FutureWarning: `torch.cuda.amp.autocast(args...)` is deprecated. Please use `torch.amp.autocast('cuda', args...)` instead.\n",
      "  with amp.autocast(autocast):\n",
      "[INFO] tello.py - 438 - Send command: 'forward 46'\n"
     ]
    },
    {
     "name": "stdout",
     "output_type": "stream",
     "text": [
      "Current icon box area ratio: 0.0328\n",
      "Move Towards the Icon!\n"
     ]
    },
    {
     "name": "stderr",
     "output_type": "stream",
     "text": [
      "[INFO] tello.py - 462 - Response forward 46: 'ok'\n",
      "/Users/wecky/.cache/torch/hub/ultralytics_yolov5_master/models/common.py:906: FutureWarning: `torch.cuda.amp.autocast(args...)` is deprecated. Please use `torch.amp.autocast('cuda', args...)` instead.\n",
      "  with amp.autocast(autocast):\n",
      "[INFO] tello.py - 438 - Send command: 'forward 45'\n"
     ]
    },
    {
     "name": "stdout",
     "output_type": "stream",
     "text": [
      "Current icon box area ratio: 0.0468\n",
      "Move Towards the Icon!\n"
     ]
    },
    {
     "name": "stderr",
     "output_type": "stream",
     "text": [
      "[INFO] tello.py - 462 - Response forward 45: 'ok'\n",
      "error while decoding MB 6 44, bytestream -6\n",
      "/Users/wecky/.cache/torch/hub/ultralytics_yolov5_master/models/common.py:906: FutureWarning: `torch.cuda.amp.autocast(args...)` is deprecated. Please use `torch.amp.autocast('cuda', args...)` instead.\n",
      "  with amp.autocast(autocast):\n"
     ]
    },
    {
     "name": "stdout",
     "output_type": "stream",
     "text": [
      "[WARN] Detection failed (retry 0): No objects detected\n"
     ]
    },
    {
     "name": "stderr",
     "output_type": "stream",
     "text": [
      "left block unavailable for requested intra mode\n",
      "error while decoding MB 0 34, bytestream 1384\n",
      "/Users/wecky/.cache/torch/hub/ultralytics_yolov5_master/models/common.py:906: FutureWarning: `torch.cuda.amp.autocast(args...)` is deprecated. Please use `torch.amp.autocast('cuda', args...)` instead.\n",
      "  with amp.autocast(autocast):\n"
     ]
    },
    {
     "name": "stdout",
     "output_type": "stream",
     "text": [
      "[WARN] Detection failed (retry 1): No objects detected\n"
     ]
    },
    {
     "name": "stderr",
     "output_type": "stream",
     "text": [
      "/Users/wecky/.cache/torch/hub/ultralytics_yolov5_master/models/common.py:906: FutureWarning: `torch.cuda.amp.autocast(args...)` is deprecated. Please use `torch.amp.autocast('cuda', args...)` instead.\n",
      "  with amp.autocast(autocast):\n",
      "[INFO] tello.py - 438 - Send command: 'forward 43'\n"
     ]
    },
    {
     "name": "stdout",
     "output_type": "stream",
     "text": [
      "Current icon box area ratio: 0.0661\n",
      "Move Towards the Icon!\n"
     ]
    },
    {
     "name": "stderr",
     "output_type": "stream",
     "text": [
      "[INFO] tello.py - 462 - Response forward 43: 'ok'\n",
      "/Users/wecky/.cache/torch/hub/ultralytics_yolov5_master/models/common.py:906: FutureWarning: `torch.cuda.amp.autocast(args...)` is deprecated. Please use `torch.amp.autocast('cuda', args...)` instead.\n",
      "  with amp.autocast(autocast):\n",
      "[INFO] tello.py - 438 - Send command: 'forward 40'\n"
     ]
    },
    {
     "name": "stdout",
     "output_type": "stream",
     "text": [
      "Current icon box area ratio: 0.0960\n",
      "Move Towards the Icon!\n"
     ]
    },
    {
     "name": "stderr",
     "output_type": "stream",
     "text": [
      "[INFO] tello.py - 462 - Response forward 40: 'ok'\n",
      "/Users/wecky/.cache/torch/hub/ultralytics_yolov5_master/models/common.py:906: FutureWarning: `torch.cuda.amp.autocast(args...)` is deprecated. Please use `torch.amp.autocast('cuda', args...)` instead.\n",
      "  with amp.autocast(autocast):\n",
      "[INFO] tello.py - 438 - Send command: 'forward 34'\n"
     ]
    },
    {
     "name": "stdout",
     "output_type": "stream",
     "text": [
      "Current icon box area ratio: 0.1527\n",
      "Move Towards the Icon!\n"
     ]
    },
    {
     "name": "stderr",
     "output_type": "stream",
     "text": [
      "[INFO] tello.py - 462 - Response forward 34: 'ok'\n",
      "/Users/wecky/.cache/torch/hub/ultralytics_yolov5_master/models/common.py:906: FutureWarning: `torch.cuda.amp.autocast(args...)` is deprecated. Please use `torch.amp.autocast('cuda', args...)` instead.\n",
      "  with amp.autocast(autocast):\n",
      "[INFO] tello.py - 438 - Send command: 'right 20'\n"
     ]
    },
    {
     "name": "stdout",
     "output_type": "stream",
     "text": [
      "Current icon box area ratio: 0.2043\n",
      "Turn right to face the icon\n"
     ]
    },
    {
     "name": "stderr",
     "output_type": "stream",
     "text": [
      "[INFO] tello.py - 462 - Response right 20: 'ok'\n",
      "[INFO] tello.py - 438 - Send command: 'forward 29'\n"
     ]
    },
    {
     "name": "stdout",
     "output_type": "stream",
     "text": [
      "Move Towards the Icon!\n"
     ]
    },
    {
     "name": "stderr",
     "output_type": "stream",
     "text": [
      "[INFO] tello.py - 462 - Response forward 29: 'ok'\n",
      "/Users/wecky/.cache/torch/hub/ultralytics_yolov5_master/models/common.py:906: FutureWarning: `torch.cuda.amp.autocast(args...)` is deprecated. Please use `torch.amp.autocast('cuda', args...)` instead.\n",
      "  with amp.autocast(autocast):\n",
      "[INFO] tello.py - 438 - Send command: 'down 21'\n"
     ]
    },
    {
     "name": "stdout",
     "output_type": "stream",
     "text": [
      "Current icon box area ratio: 0.2724\n",
      "Flying too high! Get down!\n"
     ]
    },
    {
     "name": "stderr",
     "output_type": "stream",
     "text": [
      "error while decoding MB 58 36, bytestream -6\n",
      "[INFO] tello.py - 462 - Response down 21: 'ok'\n",
      "[INFO] tello.py - 438 - Send command: 'forward 22'\n"
     ]
    },
    {
     "name": "stdout",
     "output_type": "stream",
     "text": [
      "Move Towards the Icon!\n"
     ]
    },
    {
     "name": "stderr",
     "output_type": "stream",
     "text": [
      "left block unavailable for requested intra mode\n",
      "error while decoding MB 0 37, bytestream 1733\n",
      "[INFO] tello.py - 462 - Response forward 22: 'ok'\n",
      "/Users/wecky/.cache/torch/hub/ultralytics_yolov5_master/models/common.py:906: FutureWarning: `torch.cuda.amp.autocast(args...)` is deprecated. Please use `torch.amp.autocast('cuda', args...)` instead.\n",
      "  with amp.autocast(autocast):\n"
     ]
    },
    {
     "name": "stdout",
     "output_type": "stream",
     "text": [
      "[WARN] Detection failed (retry 0): No objects detected\n"
     ]
    },
    {
     "name": "stderr",
     "output_type": "stream",
     "text": [
      "/Users/wecky/.cache/torch/hub/ultralytics_yolov5_master/models/common.py:906: FutureWarning: `torch.cuda.amp.autocast(args...)` is deprecated. Please use `torch.amp.autocast('cuda', args...)` instead.\n",
      "  with amp.autocast(autocast):\n"
     ]
    },
    {
     "name": "stdout",
     "output_type": "stream",
     "text": [
      "[WARN] Detection failed (retry 1): No objects detected\n"
     ]
    },
    {
     "name": "stderr",
     "output_type": "stream",
     "text": [
      "/Users/wecky/.cache/torch/hub/ultralytics_yolov5_master/models/common.py:906: FutureWarning: `torch.cuda.amp.autocast(args...)` is deprecated. Please use `torch.amp.autocast('cuda', args...)` instead.\n",
      "  with amp.autocast(autocast):\n"
     ]
    },
    {
     "name": "stdout",
     "output_type": "stream",
     "text": [
      "[WARN] Detection failed (retry 2): No objects detected\n"
     ]
    },
    {
     "name": "stderr",
     "output_type": "stream",
     "text": [
      "/Users/wecky/.cache/torch/hub/ultralytics_yolov5_master/models/common.py:906: FutureWarning: `torch.cuda.amp.autocast(args...)` is deprecated. Please use `torch.amp.autocast('cuda', args...)` instead.\n",
      "  with amp.autocast(autocast):\n"
     ]
    },
    {
     "name": "stdout",
     "output_type": "stream",
     "text": [
      "[WARN] Detection failed (retry 3): No objects detected\n"
     ]
    },
    {
     "name": "stderr",
     "output_type": "stream",
     "text": [
      "error while decoding MB 26 37, bytestream -6\n"
     ]
    },
    {
     "name": "stdout",
     "output_type": "stream",
     "text": [
      "[ERROR] YOLO detection failed after retries.\n",
      "[WARNING] Detection failed. Try 2 more frame before rotating.\n"
     ]
    },
    {
     "name": "stderr",
     "output_type": "stream",
     "text": [
      "[INFO] tello.py - 438 - Send command: 'up 20'\n",
      "[INFO] tello.py - 462 - Response up 20: 'ok'\n",
      "[INFO] tello.py - 438 - Send command: 'ccw 20'\n",
      "[INFO] tello.py - 462 - Response ccw 20: 'ok'\n",
      "/Users/wecky/.cache/torch/hub/ultralytics_yolov5_master/models/common.py:906: FutureWarning: `torch.cuda.amp.autocast(args...)` is deprecated. Please use `torch.amp.autocast('cuda', args...)` instead.\n",
      "  with amp.autocast(autocast):\n"
     ]
    },
    {
     "name": "stdout",
     "output_type": "stream",
     "text": [
      "[WARN] Detection failed (retry 0): No objects detected\n"
     ]
    },
    {
     "name": "stderr",
     "output_type": "stream",
     "text": [
      "/Users/wecky/.cache/torch/hub/ultralytics_yolov5_master/models/common.py:906: FutureWarning: `torch.cuda.amp.autocast(args...)` is deprecated. Please use `torch.amp.autocast('cuda', args...)` instead.\n",
      "  with amp.autocast(autocast):\n"
     ]
    },
    {
     "name": "stdout",
     "output_type": "stream",
     "text": [
      "[WARN] Detection failed (retry 1): No objects detected\n",
      "[ERROR] YOLO detection failed after retries.\n"
     ]
    },
    {
     "name": "stderr",
     "output_type": "stream",
     "text": [
      "[INFO] tello.py - 438 - Send command: 'down 40'\n",
      "error while decoding MB 5 38, bytestream -6\n",
      "[INFO] tello.py - 462 - Response down 40: 'ok'\n",
      "[INFO] tello.py - 438 - Send command: 'ccw 20'\n",
      "left block unavailable for requested intra mode\n",
      "error while decoding MB 0 29, bytestream 2106\n",
      "[INFO] tello.py - 462 - Response ccw 20: 'ok'\n",
      "/Users/wecky/.cache/torch/hub/ultralytics_yolov5_master/models/common.py:906: FutureWarning: `torch.cuda.amp.autocast(args...)` is deprecated. Please use `torch.amp.autocast('cuda', args...)` instead.\n",
      "  with amp.autocast(autocast):\n"
     ]
    },
    {
     "name": "stdout",
     "output_type": "stream",
     "text": [
      "[WARN] Detection failed (retry 0): No objects detected\n"
     ]
    },
    {
     "name": "stderr",
     "output_type": "stream",
     "text": [
      "/Users/wecky/.cache/torch/hub/ultralytics_yolov5_master/models/common.py:906: FutureWarning: `torch.cuda.amp.autocast(args...)` is deprecated. Please use `torch.amp.autocast('cuda', args...)` instead.\n",
      "  with amp.autocast(autocast):\n"
     ]
    },
    {
     "name": "stdout",
     "output_type": "stream",
     "text": [
      "[WARN] Detection failed (retry 1): No objects detected\n"
     ]
    },
    {
     "name": "stderr",
     "output_type": "stream",
     "text": [
      "left block unavailable for requested intra mode\n",
      "error while decoding MB 0 26, bytestream 1504\n"
     ]
    },
    {
     "name": "stdout",
     "output_type": "stream",
     "text": [
      "[ERROR] YOLO detection failed after retries.\n"
     ]
    },
    {
     "name": "stderr",
     "output_type": "stream",
     "text": [
      "[INFO] tello.py - 438 - Send command: 'up 20'\n",
      "[INFO] tello.py - 462 - Response up 20: 'ok'\n",
      "[INFO] tello.py - 438 - Send command: 'cw 10'\n",
      "[INFO] tello.py - 462 - Response cw 10: 'ok'\n",
      "/Users/wecky/.cache/torch/hub/ultralytics_yolov5_master/models/common.py:906: FutureWarning: `torch.cuda.amp.autocast(args...)` is deprecated. Please use `torch.amp.autocast('cuda', args...)` instead.\n",
      "  with amp.autocast(autocast):\n",
      "left block unavailable for requested intra4x4 mode -1\n",
      "error while decoding MB 0 38, bytestream 1653\n"
     ]
    },
    {
     "name": "stdout",
     "output_type": "stream",
     "text": [
      "[WARN] Detection failed (retry 0): No objects detected\n"
     ]
    },
    {
     "name": "stderr",
     "output_type": "stream",
     "text": [
      "/Users/wecky/.cache/torch/hub/ultralytics_yolov5_master/models/common.py:906: FutureWarning: `torch.cuda.amp.autocast(args...)` is deprecated. Please use `torch.amp.autocast('cuda', args...)` instead.\n",
      "  with amp.autocast(autocast):\n",
      "left block unavailable for requested intra mode\n",
      "error while decoding MB 0 37, bytestream 1032\n"
     ]
    },
    {
     "name": "stdout",
     "output_type": "stream",
     "text": [
      "[WARN] Detection failed (retry 1): No objects detected\n"
     ]
    },
    {
     "name": "stderr",
     "output_type": "stream",
     "text": [
      "left block unavailable for requested intra mode\n",
      "error while decoding MB 0 36, bytestream 1379\n"
     ]
    },
    {
     "name": "stdout",
     "output_type": "stream",
     "text": [
      "[ERROR] YOLO detection failed after retries.\n"
     ]
    },
    {
     "name": "stderr",
     "output_type": "stream",
     "text": [
      "[INFO] tello.py - 438 - Send command: 'ccw 20'\n",
      "[INFO] tello.py - 462 - Response ccw 20: 'ok'\n",
      "/Users/wecky/.cache/torch/hub/ultralytics_yolov5_master/models/common.py:906: FutureWarning: `torch.cuda.amp.autocast(args...)` is deprecated. Please use `torch.amp.autocast('cuda', args...)` instead.\n",
      "  with amp.autocast(autocast):\n"
     ]
    },
    {
     "name": "stdout",
     "output_type": "stream",
     "text": [
      "[WARN] Detection failed (retry 0): No objects detected\n"
     ]
    },
    {
     "name": "stderr",
     "output_type": "stream",
     "text": [
      "/Users/wecky/.cache/torch/hub/ultralytics_yolov5_master/models/common.py:906: FutureWarning: `torch.cuda.amp.autocast(args...)` is deprecated. Please use `torch.amp.autocast('cuda', args...)` instead.\n",
      "  with amp.autocast(autocast):\n"
     ]
    },
    {
     "name": "stdout",
     "output_type": "stream",
     "text": [
      "[WARN] Detection failed (retry 1): No objects detected\n"
     ]
    },
    {
     "name": "stderr",
     "output_type": "stream",
     "text": [
      "[INFO] tello.py - 471 - Send command (no response expected): 'rc 0 0 0 0'\n"
     ]
    },
    {
     "name": "stdout",
     "output_type": "stream",
     "text": [
      "[ERROR] YOLO detection failed after retries.\n",
      "Lost target, researching...\n",
      "[WARN] Detection failed (retry 0): No objects detected\n"
     ]
    },
    {
     "name": "stderr",
     "output_type": "stream",
     "text": [
      "/Users/wecky/.cache/torch/hub/ultralytics_yolov5_master/models/common.py:906: FutureWarning: `torch.cuda.amp.autocast(args...)` is deprecated. Please use `torch.amp.autocast('cuda', args...)` instead.\n",
      "  with amp.autocast(autocast):\n",
      "left block unavailable for requested intra mode\n",
      "error while decoding MB 0 39, bytestream 1071\n",
      "/Users/wecky/.cache/torch/hub/ultralytics_yolov5_master/models/common.py:906: FutureWarning: `torch.cuda.amp.autocast(args...)` is deprecated. Please use `torch.amp.autocast('cuda', args...)` instead.\n",
      "  with amp.autocast(autocast):\n"
     ]
    },
    {
     "name": "stdout",
     "output_type": "stream",
     "text": [
      "[WARN] Detection failed (retry 1): No objects detected\n"
     ]
    },
    {
     "name": "stderr",
     "output_type": "stream",
     "text": [
      "[INFO] tello.py - 438 - Send command: 'cw 30'\n"
     ]
    },
    {
     "name": "stdout",
     "output_type": "stream",
     "text": [
      "[ERROR] YOLO detection failed after retries.\n"
     ]
    },
    {
     "name": "stderr",
     "output_type": "stream",
     "text": [
      "error while decoding MB 33 33, bytestream 4\n",
      "error while decoding MB 11 36, bytestream -5\n",
      "error while decoding MB 11 37, bytestream -5\n",
      "[INFO] tello.py - 462 - Response cw 30: 'ok'\n",
      "/Users/wecky/.cache/torch/hub/ultralytics_yolov5_master/models/common.py:906: FutureWarning: `torch.cuda.amp.autocast(args...)` is deprecated. Please use `torch.amp.autocast('cuda', args...)` instead.\n",
      "  with amp.autocast(autocast):\n"
     ]
    },
    {
     "name": "stdout",
     "output_type": "stream",
     "text": [
      "[WARN] Detection failed (retry 0): No objects detected\n"
     ]
    },
    {
     "name": "stderr",
     "output_type": "stream",
     "text": [
      "/Users/wecky/.cache/torch/hub/ultralytics_yolov5_master/models/common.py:906: FutureWarning: `torch.cuda.amp.autocast(args...)` is deprecated. Please use `torch.amp.autocast('cuda', args...)` instead.\n",
      "  with amp.autocast(autocast):\n"
     ]
    },
    {
     "name": "stdout",
     "output_type": "stream",
     "text": [
      "[WARN] Detection failed (retry 1): No objects detected\n"
     ]
    },
    {
     "name": "stderr",
     "output_type": "stream",
     "text": [
      "[INFO] tello.py - 438 - Send command: 'cw 30'\n",
      "[INFO] tello.py - 462 - Response cw 30: 'error Auto land'\n",
      "[INFO] tello.py - 438 - Send command: 'cw 30'\n"
     ]
    },
    {
     "name": "stdout",
     "output_type": "stream",
     "text": [
      "[ERROR] YOLO detection failed after retries.\n"
     ]
    },
    {
     "name": "stderr",
     "output_type": "stream",
     "text": [
      "[INFO] tello.py - 462 - Response cw 30: 'error Auto land'\n",
      "[INFO] tello.py - 438 - Send command: 'cw 30'\n",
      "[INFO] tello.py - 462 - Response cw 30: 'error Auto land'\n"
     ]
    },
    {
     "ename": "TelloException",
     "evalue": "Command 'cw 30' was unsuccessful for 4 tries. Latest response:\t'error Auto land'",
     "output_type": "error",
     "traceback": [
      "\u001b[0;31m---------------------------------------------------------------------------\u001b[0m",
      "\u001b[0;31mTelloException\u001b[0m                            Traceback (most recent call last)",
      "Cell \u001b[0;32mIn[5], line 1\u001b[0m\n\u001b[0;32m----> 1\u001b[0m flag \u001b[38;5;241m=\u001b[39m \u001b[43mmission\u001b[49m\u001b[38;5;241;43m.\u001b[39;49m\u001b[43mfly_toward_icon\u001b[49m\u001b[43m(\u001b[49m\u001b[43m)\u001b[49m\n\u001b[1;32m      2\u001b[0m \u001b[38;5;28mprint\u001b[39m(flag)\n",
      "Cell \u001b[0;32mIn[1], line 205\u001b[0m, in \u001b[0;36mLogoHunting.fly_toward_icon\u001b[0;34m(self, max_try_round)\u001b[0m\n\u001b[1;32m    203\u001b[0m \u001b[38;5;28;01mwhile\u001b[39;00m \u001b[38;5;129;01mnot\u001b[39;00m flag \u001b[38;5;129;01mand\u001b[39;00m i \u001b[38;5;241m<\u001b[39m\u001b[38;5;241m3\u001b[39m:\n\u001b[1;32m    204\u001b[0m     \u001b[38;5;28mprint\u001b[39m(\u001b[38;5;124m\"\u001b[39m\u001b[38;5;124mLost target, researching...\u001b[39m\u001b[38;5;124m\"\u001b[39m)\n\u001b[0;32m--> 205\u001b[0m     flag \u001b[38;5;241m=\u001b[39m \u001b[38;5;28;43mself\u001b[39;49m\u001b[38;5;241;43m.\u001b[39;49m\u001b[43mrotate_until_target_found\u001b[49m\u001b[43m(\u001b[49m\u001b[43m)\u001b[49m\n\u001b[1;32m    206\u001b[0m     i \u001b[38;5;241m+\u001b[39m\u001b[38;5;241m=\u001b[39m \u001b[38;5;241m1\u001b[39m\n\u001b[1;32m    207\u001b[0m \u001b[38;5;28;01mif\u001b[39;00m \u001b[38;5;129;01mnot\u001b[39;00m flag:\n",
      "Cell \u001b[0;32mIn[1], line 162\u001b[0m, in \u001b[0;36mLogoHunting.rotate_until_target_found\u001b[0;34m(self)\u001b[0m\n\u001b[1;32m    160\u001b[0m     \u001b[38;5;28mprint\u001b[39m(\u001b[38;5;124m\"\u001b[39m\u001b[38;5;124mFind Target\u001b[39m\u001b[38;5;124m\"\u001b[39m)\n\u001b[1;32m    161\u001b[0m     \u001b[38;5;28;01mreturn\u001b[39;00m result[\u001b[38;5;124m\"\u001b[39m\u001b[38;5;124micon_box\u001b[39m\u001b[38;5;124m\"\u001b[39m]\n\u001b[0;32m--> 162\u001b[0m \u001b[38;5;28;43mself\u001b[39;49m\u001b[38;5;241;43m.\u001b[39;49m\u001b[43mrotate_drone\u001b[49m\u001b[43m(\u001b[49m\u001b[43m)\u001b[49m\n\u001b[1;32m    163\u001b[0m sleep(\u001b[38;5;241m1\u001b[39m)\n\u001b[1;32m    164\u001b[0m i \u001b[38;5;241m+\u001b[39m\u001b[38;5;241m=\u001b[39m \u001b[38;5;241m1\u001b[39m\n",
      "Cell \u001b[0;32mIn[1], line 72\u001b[0m, in \u001b[0;36mLogoHunting.rotate_drone\u001b[0;34m(self, degree)\u001b[0m\n\u001b[1;32m     71\u001b[0m \u001b[38;5;28;01mdef\u001b[39;00m \u001b[38;5;21mrotate_drone\u001b[39m(\u001b[38;5;28mself\u001b[39m,degree\u001b[38;5;241m=\u001b[39m\u001b[38;5;241m30\u001b[39m):\n\u001b[0;32m---> 72\u001b[0m     \u001b[38;5;28;43mself\u001b[39;49m\u001b[38;5;241;43m.\u001b[39;49m\u001b[43mdrone\u001b[49m\u001b[38;5;241;43m.\u001b[39;49m\u001b[43mrotate_clockwise\u001b[49m\u001b[43m(\u001b[49m\u001b[38;5;28;43mint\u001b[39;49m\u001b[43m(\u001b[49m\u001b[43mdegree\u001b[49m\u001b[43m)\u001b[49m\u001b[43m)\u001b[49m\n\u001b[1;32m     73\u001b[0m     sleep(\u001b[38;5;241m1\u001b[39m)\n",
      "File \u001b[0;32m/opt/homebrew/Caskroom/miniforge/base/envs/city/lib/python3.11/site-packages/djitellopy/enforce_types.py:54\u001b[0m, in \u001b[0;36menforce_types.<locals>.decorate.<locals>.wrapper\u001b[0;34m(*args, **kwargs)\u001b[0m\n\u001b[1;32m     51\u001b[0m \u001b[38;5;129m@wraps\u001b[39m(func)\n\u001b[1;32m     52\u001b[0m \u001b[38;5;28;01mdef\u001b[39;00m \u001b[38;5;21mwrapper\u001b[39m(\u001b[38;5;241m*\u001b[39margs, \u001b[38;5;241m*\u001b[39m\u001b[38;5;241m*\u001b[39mkwargs):\n\u001b[1;32m     53\u001b[0m     check_types(spec, \u001b[38;5;241m*\u001b[39margs, \u001b[38;5;241m*\u001b[39m\u001b[38;5;241m*\u001b[39mkwargs)\n\u001b[0;32m---> 54\u001b[0m     \u001b[38;5;28;01mreturn\u001b[39;00m \u001b[43mfunc\u001b[49m\u001b[43m(\u001b[49m\u001b[38;5;241;43m*\u001b[39;49m\u001b[43margs\u001b[49m\u001b[43m,\u001b[49m\u001b[43m \u001b[49m\u001b[38;5;241;43m*\u001b[39;49m\u001b[38;5;241;43m*\u001b[39;49m\u001b[43mkwargs\u001b[49m\u001b[43m)\u001b[49m\n",
      "File \u001b[0;32m/opt/homebrew/Caskroom/miniforge/base/envs/city/lib/python3.11/site-packages/djitellopy/tello.py:670\u001b[0m, in \u001b[0;36mTello.rotate_clockwise\u001b[0;34m(self, x)\u001b[0m\n\u001b[1;32m    665\u001b[0m \u001b[38;5;28;01mdef\u001b[39;00m \u001b[38;5;21mrotate_clockwise\u001b[39m(\u001b[38;5;28mself\u001b[39m, x: \u001b[38;5;28mint\u001b[39m):\n\u001b[1;32m    666\u001b[0m \u001b[38;5;250m    \u001b[39m\u001b[38;5;124;03m\"\"\"Rotate x degree clockwise.\u001b[39;00m\n\u001b[1;32m    667\u001b[0m \u001b[38;5;124;03m    Arguments:\u001b[39;00m\n\u001b[1;32m    668\u001b[0m \u001b[38;5;124;03m        x: 1-360\u001b[39;00m\n\u001b[1;32m    669\u001b[0m \u001b[38;5;124;03m    \"\"\"\u001b[39;00m\n\u001b[0;32m--> 670\u001b[0m     \u001b[38;5;28;43mself\u001b[39;49m\u001b[38;5;241;43m.\u001b[39;49m\u001b[43msend_control_command\u001b[49m\u001b[43m(\u001b[49m\u001b[38;5;124;43m\"\u001b[39;49m\u001b[38;5;124;43mcw \u001b[39;49m\u001b[38;5;132;43;01m{}\u001b[39;49;00m\u001b[38;5;124;43m\"\u001b[39;49m\u001b[38;5;241;43m.\u001b[39;49m\u001b[43mformat\u001b[49m\u001b[43m(\u001b[49m\u001b[43mx\u001b[49m\u001b[43m)\u001b[49m\u001b[43m)\u001b[49m\n",
      "File \u001b[0;32m/opt/homebrew/Caskroom/miniforge/base/envs/city/lib/python3.11/site-packages/djitellopy/enforce_types.py:54\u001b[0m, in \u001b[0;36menforce_types.<locals>.decorate.<locals>.wrapper\u001b[0;34m(*args, **kwargs)\u001b[0m\n\u001b[1;32m     51\u001b[0m \u001b[38;5;129m@wraps\u001b[39m(func)\n\u001b[1;32m     52\u001b[0m \u001b[38;5;28;01mdef\u001b[39;00m \u001b[38;5;21mwrapper\u001b[39m(\u001b[38;5;241m*\u001b[39margs, \u001b[38;5;241m*\u001b[39m\u001b[38;5;241m*\u001b[39mkwargs):\n\u001b[1;32m     53\u001b[0m     check_types(spec, \u001b[38;5;241m*\u001b[39margs, \u001b[38;5;241m*\u001b[39m\u001b[38;5;241m*\u001b[39mkwargs)\n\u001b[0;32m---> 54\u001b[0m     \u001b[38;5;28;01mreturn\u001b[39;00m \u001b[43mfunc\u001b[49m\u001b[43m(\u001b[49m\u001b[38;5;241;43m*\u001b[39;49m\u001b[43margs\u001b[49m\u001b[43m,\u001b[49m\u001b[43m \u001b[49m\u001b[38;5;241;43m*\u001b[39;49m\u001b[38;5;241;43m*\u001b[39;49m\u001b[43mkwargs\u001b[49m\u001b[43m)\u001b[49m\n",
      "File \u001b[0;32m/opt/homebrew/Caskroom/miniforge/base/envs/city/lib/python3.11/site-packages/djitellopy/tello.py:487\u001b[0m, in \u001b[0;36mTello.send_control_command\u001b[0;34m(self, command, timeout)\u001b[0m\n\u001b[1;32m    483\u001b[0m         \u001b[38;5;28;01mreturn\u001b[39;00m \u001b[38;5;28;01mTrue\u001b[39;00m\n\u001b[1;32m    485\u001b[0m     \u001b[38;5;28mself\u001b[39m\u001b[38;5;241m.\u001b[39mLOGGER\u001b[38;5;241m.\u001b[39mdebug(\u001b[38;5;124m\"\u001b[39m\u001b[38;5;124mCommand attempt #\u001b[39m\u001b[38;5;132;01m{}\u001b[39;00m\u001b[38;5;124m failed for command: \u001b[39m\u001b[38;5;124m'\u001b[39m\u001b[38;5;132;01m{}\u001b[39;00m\u001b[38;5;124m'\u001b[39m\u001b[38;5;124m\"\u001b[39m\u001b[38;5;241m.\u001b[39mformat(i, command))\n\u001b[0;32m--> 487\u001b[0m \u001b[38;5;28;43mself\u001b[39;49m\u001b[38;5;241;43m.\u001b[39;49m\u001b[43mraise_result_error\u001b[49m\u001b[43m(\u001b[49m\u001b[43mcommand\u001b[49m\u001b[43m,\u001b[49m\u001b[43m \u001b[49m\u001b[43mresponse\u001b[49m\u001b[43m)\u001b[49m\n\u001b[1;32m    488\u001b[0m \u001b[38;5;28;01mreturn\u001b[39;00m \u001b[38;5;28;01mFalse\u001b[39;00m\n",
      "File \u001b[0;32m/opt/homebrew/Caskroom/miniforge/base/envs/city/lib/python3.11/site-packages/djitellopy/enforce_types.py:54\u001b[0m, in \u001b[0;36menforce_types.<locals>.decorate.<locals>.wrapper\u001b[0;34m(*args, **kwargs)\u001b[0m\n\u001b[1;32m     51\u001b[0m \u001b[38;5;129m@wraps\u001b[39m(func)\n\u001b[1;32m     52\u001b[0m \u001b[38;5;28;01mdef\u001b[39;00m \u001b[38;5;21mwrapper\u001b[39m(\u001b[38;5;241m*\u001b[39margs, \u001b[38;5;241m*\u001b[39m\u001b[38;5;241m*\u001b[39mkwargs):\n\u001b[1;32m     53\u001b[0m     check_types(spec, \u001b[38;5;241m*\u001b[39margs, \u001b[38;5;241m*\u001b[39m\u001b[38;5;241m*\u001b[39mkwargs)\n\u001b[0;32m---> 54\u001b[0m     \u001b[38;5;28;01mreturn\u001b[39;00m \u001b[43mfunc\u001b[49m\u001b[43m(\u001b[49m\u001b[38;5;241;43m*\u001b[39;49m\u001b[43margs\u001b[49m\u001b[43m,\u001b[49m\u001b[43m \u001b[49m\u001b[38;5;241;43m*\u001b[39;49m\u001b[38;5;241;43m*\u001b[39;49m\u001b[43mkwargs\u001b[49m\u001b[43m)\u001b[49m\n",
      "File \u001b[0;32m/opt/homebrew/Caskroom/miniforge/base/envs/city/lib/python3.11/site-packages/djitellopy/tello.py:529\u001b[0m, in \u001b[0;36mTello.raise_result_error\u001b[0;34m(self, command, response)\u001b[0m\n\u001b[1;32m    525\u001b[0m \u001b[38;5;250m\u001b[39m\u001b[38;5;124;03m\"\"\"Used to reaise an error after an unsuccessful command\u001b[39;00m\n\u001b[1;32m    526\u001b[0m \u001b[38;5;124;03mInternal method, you normally wouldn't call this yourself.\u001b[39;00m\n\u001b[1;32m    527\u001b[0m \u001b[38;5;124;03m\"\"\"\u001b[39;00m\n\u001b[1;32m    528\u001b[0m tries \u001b[38;5;241m=\u001b[39m \u001b[38;5;241m1\u001b[39m \u001b[38;5;241m+\u001b[39m \u001b[38;5;28mself\u001b[39m\u001b[38;5;241m.\u001b[39mretry_count\n\u001b[0;32m--> 529\u001b[0m \u001b[38;5;28;01mraise\u001b[39;00m TelloException(\u001b[38;5;124m\"\u001b[39m\u001b[38;5;124mCommand \u001b[39m\u001b[38;5;124m'\u001b[39m\u001b[38;5;132;01m{}\u001b[39;00m\u001b[38;5;124m'\u001b[39m\u001b[38;5;124m was unsuccessful for \u001b[39m\u001b[38;5;132;01m{}\u001b[39;00m\u001b[38;5;124m tries. Latest response:\u001b[39m\u001b[38;5;130;01m\\t\u001b[39;00m\u001b[38;5;124m'\u001b[39m\u001b[38;5;132;01m{}\u001b[39;00m\u001b[38;5;124m'\u001b[39m\u001b[38;5;124m\"\u001b[39m\n\u001b[1;32m    530\u001b[0m                      \u001b[38;5;241m.\u001b[39mformat(command, tries, response))\n",
      "\u001b[0;31mTelloException\u001b[0m: Command 'cw 30' was unsuccessful for 4 tries. Latest response:\t'error Auto land'"
     ]
    },
    {
     "name": "stderr",
     "output_type": "stream",
     "text": [
      "error while decoding MB 4 43, bytestream -6\n"
     ]
    }
   ],
   "source": [
    "flag = mission.fly_toward_icon()\n",
    "print(flag)"
   ]
  },
  {
   "cell_type": "code",
   "execution_count": null,
   "metadata": {},
   "outputs": [],
   "source": [
    "mission.side_slide_to_text()"
   ]
  },
  {
   "cell_type": "code",
   "execution_count": 6,
   "metadata": {},
   "outputs": [
    {
     "name": "stderr",
     "output_type": "stream",
     "text": [
      "[INFO] tello.py - 438 - Send command: 'streamoff'\n",
      "[INFO] tello.py - 462 - Response streamoff: 'ok'\n",
      "[INFO] tello.py - 438 - Send command: 'land'\n",
      "[INFO] tello.py - 462 - Response land: 'ok'\n"
     ]
    }
   ],
   "source": [
    "#mission.land()\n",
    "mission.shutdown()"
   ]
  },
  {
   "cell_type": "code",
   "execution_count": null,
   "metadata": {},
   "outputs": [],
   "source": [
    "print(\"[INFO] Battery:\", mission.drone.get_battery())\n",
    "print(\"[INFO] Height:\", mission.drone.get_height())"
   ]
  }
 ],
 "metadata": {
  "kernelspec": {
   "display_name": "city",
   "language": "python",
   "name": "python3"
  },
  "language_info": {
   "codemirror_mode": {
    "name": "ipython",
    "version": 3
   },
   "file_extension": ".py",
   "mimetype": "text/x-python",
   "name": "python",
   "nbconvert_exporter": "python",
   "pygments_lexer": "ipython3",
   "version": "3.11.3"
  }
 },
 "nbformat": 4,
 "nbformat_minor": 2
}
